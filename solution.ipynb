{
 "cells": [
  {
   "cell_type": "code",
   "execution_count": null,
   "metadata": {},
   "outputs": [],
   "source": [
    "!pip install -r \"requirements.txt\""
   ]
  },
  {
   "cell_type": "markdown",
   "metadata": {},
   "source": [
    "### Read data"
   ]
  },
  {
   "cell_type": "code",
   "execution_count": 31,
   "metadata": {},
   "outputs": [],
   "source": [
    "import pandas as pd\n",
    "import numpy as np"
   ]
  },
  {
   "cell_type": "code",
   "execution_count": 4,
   "metadata": {},
   "outputs": [],
   "source": [
    "path = \"data/data.csv\"\n",
    "data = pd.read_csv(path, index_col=0)"
   ]
  },
  {
   "cell_type": "markdown",
   "metadata": {},
   "source": [
    "### Processing"
   ]
  },
  {
   "cell_type": "code",
   "execution_count": 191,
   "metadata": {},
   "outputs": [],
   "source": [
    "import re\n",
    "from natasha import (\n",
    "    Segmenter, MorphVocab,\n",
    "    NewsEmbedding, NewsNERTagger,\n",
    "    NewsMorphTagger, Doc\n",
    ")\n",
    "from difflib import get_close_matches\n",
    "from city_data import cities, city_mapping"
   ]
  },
  {
   "cell_type": "code",
   "execution_count": 249,
   "metadata": {},
   "outputs": [],
   "source": [
    "# Natasha компоненты\n",
    "segmenter = Segmenter()\n",
    "emb = NewsEmbedding()\n",
    "ner_tagger = NewsNERTagger(emb)\n",
    "morph_tagger = NewsMorphTagger(emb)\n",
    "morph_vocab = MorphVocab()"
   ]
  },
  {
   "cell_type": "code",
   "execution_count": 250,
   "metadata": {},
   "outputs": [],
   "source": [
    "def normalize_city_name(text):\n",
    "    norm = text.lower().strip()\n",
    "    if norm in city_mapping:\n",
    "        return city_mapping[norm]\n",
    "    return norm.capitalize()\n",
    "\n",
    "def fuzzy_match_city(word):\n",
    "    candidates = list(cities) + list(city_mapping.keys())\n",
    "    match = get_close_matches(word, candidates, n=1, cutoff=0.8)\n",
    "    if match:\n",
    "        candidate = match[0]\n",
    "        return city_mapping.get(candidate.lower(), candidate)\n",
    "    return None"
   ]
  },
  {
   "cell_type": "code",
   "execution_count": 251,
   "metadata": {},
   "outputs": [],
   "source": [
    "def extract_city(text):\n",
    "    text_clean = text.lower().replace('.', '').replace('-', ' ')\n",
    "    \n",
    "    # 1. Поиск по city_mapping напрямую\n",
    "    for alias, real in city_mapping.items():\n",
    "        if re.search(rf'\\\\b{alias}\\\\b', text_clean):\n",
    "            return real\n",
    "\n",
    "    # 2. Морфология через Natasha\n",
    "    doc = Doc(text)\n",
    "    doc.segment(segmenter)\n",
    "    doc.tag_morph(morph_tagger)\n",
    "    doc.tag_ner(ner_tagger)\n",
    "\n",
    "    for span in doc.spans:\n",
    "        if span.type == 'LOC':\n",
    "            span.normalize(morph_vocab)\n",
    "            city = span.normal\n",
    "            if city in cities:\n",
    "                return city\n",
    "            fuzzy = fuzzy_match_city(city.lower())\n",
    "            if fuzzy:\n",
    "                return fuzzy\n",
    "\n",
    "    for token in doc.tokens:\n",
    "        token.lemmatize(morph_vocab)\n",
    "        lemma = token.lemma\n",
    "        if lemma in cities:\n",
    "            return lemma\n",
    "        if lemma.lower() in city_mapping:\n",
    "            return city_mapping[lemma.lower()]\n",
    "        fuzzy = fuzzy_match_city(lemma.lower())\n",
    "        if fuzzy:\n",
    "            return fuzzy\n",
    "\n",
    "    return None"
   ]
  },
  {
   "cell_type": "markdown",
   "metadata": {},
   "source": [
    "#### Sample"
   ]
  },
  {
   "cell_type": "code",
   "execution_count": 306,
   "metadata": {},
   "outputs": [
    {
     "name": "stdout",
     "output_type": "stream",
     "text": [
      "Добрый вечер. Хочу заказать букет роз для девушки в Мск. Можно добавить плюшевого мишку к заказу? Сколько это будет стоить? Спасибо!\n",
      "Москва\n"
     ]
    }
   ],
   "source": [
    "sample = data.sample(ignore_index=True).loc[0, 'message']\n",
    "print(sample)\n",
    "print(extract_city(sample))"
   ]
  },
  {
   "cell_type": "markdown",
   "metadata": {},
   "source": [
    "### Test"
   ]
  },
  {
   "cell_type": "code",
   "execution_count": 298,
   "metadata": {},
   "outputs": [],
   "source": [
    "data['city'] = data['message'].apply(extract_city)"
   ]
  },
  {
   "cell_type": "code",
   "execution_count": 301,
   "metadata": {},
   "outputs": [
    {
     "data": {
      "text/plain": [
       "0"
      ]
     },
     "execution_count": 301,
     "metadata": {},
     "output_type": "execute_result"
    }
   ],
   "source": [
    "data['city'].isnull().sum() # Нет пропусков"
   ]
  },
  {
   "cell_type": "code",
   "execution_count": 302,
   "metadata": {},
   "outputs": [
    {
     "data": {
      "text/plain": [
       "city\n",
       "Новосибирск        25\n",
       "Екатеринбург       24\n",
       "Москва             22\n",
       "Нижний Новгород    22\n",
       "Санкт-Петербург    20\n",
       "Алматы              3\n",
       "Астана              2\n",
       "Нур-Султан          2\n",
       "Name: count, dtype: int64"
      ]
     },
     "execution_count": 302,
     "metadata": {},
     "output_type": "execute_result"
    }
   ],
   "source": [
    "data.value_counts('city') # Отличное распределение городов"
   ]
  },
  {
   "cell_type": "markdown",
   "metadata": {},
   "source": [
    "### Save"
   ]
  },
  {
   "cell_type": "code",
   "execution_count": null,
   "metadata": {},
   "outputs": [],
   "source": [
    "# Данное решение является воспроизводимым на любых data.csv схожих по формату с изначальными"
   ]
  },
  {
   "cell_type": "code",
   "execution_count": 308,
   "metadata": {},
   "outputs": [],
   "source": [
    "data.to_csv(path)"
   ]
  }
 ],
 "metadata": {
  "kernelspec": {
   "display_name": "Python 3",
   "language": "python",
   "name": "python3"
  },
  "language_info": {
   "codemirror_mode": {
    "name": "ipython",
    "version": 3
   },
   "file_extension": ".py",
   "mimetype": "text/x-python",
   "name": "python",
   "nbconvert_exporter": "python",
   "pygments_lexer": "ipython3",
   "version": "3.11.9"
  }
 },
 "nbformat": 4,
 "nbformat_minor": 2
}
